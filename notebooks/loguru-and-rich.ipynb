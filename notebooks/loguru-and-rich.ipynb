{
 "cells": [
  {
   "cell_type": "code",
   "execution_count": null,
   "id": "d6828934-7e57-4ad0-bdbb-862f53378c09",
   "metadata": {},
   "outputs": [],
   "source": [
    "%load_ext autoreload\n",
    "%autoreload 2\n",
    "%config InlineBackend.figure_format = 'retina'"
   ]
  },
  {
   "cell_type": "markdown",
   "id": "af23b491-c394-4759-ae0a-f604a282a34b",
   "metadata": {},
   "source": [
    "# Rich: render as text\n",
    "\n",
    "My preferred way to render `rich` output on Jupyter Lab:\n",
    "\n",
    "1. honor JLab font size.\n",
    "2. long strings are wrapped by the browser width.\n",
    "\n",
    "Refer to [Appendix](#Appendix:-Rich----render-as-html) to compare to default behavior."
   ]
  },
  {
   "cell_type": "code",
   "execution_count": null,
   "id": "628035dd-23e0-42ad-a0ee-9e43cd941eca",
   "metadata": {},
   "outputs": [
    {
     "name": "stdout",
     "output_type": "stream",
     "text": [
      "a \u001b[1m{\u001b[0m\u001b[32m'BBBBBBBBBBBBBBBBBBBBBBBBBBBBBBBBBBBBBBBBBBBBBBBBBBBBBBBBBBBBBBBBBBBBBBBBBBBBBBBBBBBBBBBBBBBBBBBBBBBBBBBBBBBBBBBBBBBBBBBBBBBBBBBBBBBBBBBBBBBBBBBBBBBBBBBBBBBBBBBBBBBBBBBBBBBBBBBBBBBBBBBBBBBBBBBBBBBBBBBB'\u001b[0m, \u001b[32m'AAAAAAAAAAAAAAAAAAAAAAAAAAAAAAAAAAAAAAAAAAAAAAAAAAAAAAAAAAAAAAAAAAAAAAAAAAAAAAAAAAAAAAAAAAAAAAAAAAAAAAAAAAAAAAAAAAAAAAAAAAAAAAAAAAAAAAAAAAAAAAAAAAAAAAAAAAAAAAAAAAAAAAAAAAAAAAAAAAAAAAAAAAAAAAAAAAAAAAAA'\u001b[0m\u001b[1m}\u001b[0m\n",
      "a {'BBBBBBBBBBBBBBBBBBBBBBBBBBBBBBBBBBBBBBBBBBBBBBBBBBBBBBBBBBBBBBBBBBBBBBBBBBBBBBBBBBBBBBBBBBBBBBBBBBBBBBBBBBBBBBBBBBBBBBBBBBBBBBBBBBBBBBBBBBBBBBBBBBBBBBBBBBBBBBBBBBBBBBBBBBBBBBBBBBBBBBBBBBBBBBBBBBBBBBBB', 'AAAAAAAAAAAAAAAAAAAAAAAAAAAAAAAAAAAAAAAAAAAAAAAAAAAAAAAAAAAAAAAAAAAAAAAAAAAAAAAAAAAAAAAAAAAAAAAAAAAAAAAAAAAAAAAAAAAAAAAAAAAAAAAAAAAAAAAAAAAAAAAAAAAAAAAAAAAAAAAAAAAAAAAAAAAAAAAAAAAAAAAAAAAAAAAAAAAAAAAA'}\n",
      "\n",
      "\u001b[1m{\u001b[0m\n",
      "    \u001b[32m'BBBBBBBBBBBBBBBBBBBBBBBBBBBBBBBBBBBBBBBBBBBBBBBBBBBBBBBBBBBBBBBBBBBBBBBBBBBBBBBBBBBBBBBBBBBBBBBBBBBBBBBBBBBBBBBBBBBBBBBBBBBBBBBBBBBBBBBBBBBBBBBBBBBBBBBBBBBBBBBBBBBBBBBBBBBBBBBBBBBBBBBBBBBBBBBBBBBBBBBB'\u001b[0m,\n",
      "    \u001b[32m'AAAAAAAAAAAAAAAAAAAAAAAAAAAAAAAAAAAAAAAAAAAAAAAAAAAAAAAAAAAAAAAAAAAAAAAAAAAAAAAAAAAAAAAAAAAAAAAAAAAAAAAAAAAAAAAAAAAAAAAAAAAAAAAAAAAAAAAAAAAAAAAAAAAAAAAAAAAAAAAAAAAAAAAAAAAAAAAAAAAAAAAAAAAAAAAAAAAAAAAA'\u001b[0m\n",
      "\u001b[1m}\u001b[0m\n",
      "\u001b[34m╭─\u001b[0m\u001b[34m──────────────────────── \u001b[0m\u001b[1;34m<\u001b[0m\u001b[1;95mclass\u001b[0m\u001b[39m \u001b[0m\u001b[32m'rich.color.Color'\u001b[0m\u001b[1;34m>\u001b[0m\u001b[34m ────────────────────────\u001b[0m\u001b[34m─╮\u001b[0m\n",
      "\u001b[34m│\u001b[0m \u001b[36mTerminal color definition.\u001b[0m                                                   \u001b[34m│\u001b[0m\n",
      "\u001b[34m│\u001b[0m                                                                              \u001b[34m│\u001b[0m\n",
      "\u001b[34m│\u001b[0m \u001b[32m╭──────────────────────────────────────────────────────────────────────────╮\u001b[0m \u001b[34m│\u001b[0m\n",
      "\u001b[34m│\u001b[0m \u001b[32m│\u001b[0m \u001b[1;35mColor\u001b[0m\u001b[1m(\u001b[0m\u001b[32m'red'\u001b[0m, ColorType.STANDARD, \u001b[33mnumber\u001b[0m=\u001b[1;36m1\u001b[0m\u001b[1m)\u001b[0m                               \u001b[32m│\u001b[0m \u001b[34m│\u001b[0m\n",
      "\u001b[34m│\u001b[0m \u001b[32m╰──────────────────────────────────────────────────────────────────────────╯\u001b[0m \u001b[34m│\u001b[0m\n",
      "\u001b[34m│\u001b[0m                                                                              \u001b[34m│\u001b[0m\n",
      "\u001b[34m│\u001b[0m        \u001b[3;33mis_default\u001b[0m = \u001b[3;91mFalse\u001b[0m                                                    \u001b[34m│\u001b[0m\n",
      "\u001b[34m│\u001b[0m \u001b[3;33mis_system_defined\u001b[0m = \u001b[3;92mTrue\u001b[0m                                                     \u001b[34m│\u001b[0m\n",
      "\u001b[34m│\u001b[0m              \u001b[3;33mname\u001b[0m = \u001b[32m'red'\u001b[0m                                                    \u001b[34m│\u001b[0m\n",
      "\u001b[34m│\u001b[0m            \u001b[3;33mnumber\u001b[0m = \u001b[1;36m1\u001b[0m                                                        \u001b[34m│\u001b[0m\n",
      "\u001b[34m│\u001b[0m            \u001b[3;33msystem\u001b[0m = ColorSystem.STANDARD                                     \u001b[34m│\u001b[0m\n",
      "\u001b[34m│\u001b[0m           \u001b[3;33mtriplet\u001b[0m = \u001b[3;35mNone\u001b[0m                                                     \u001b[34m│\u001b[0m\n",
      "\u001b[34m│\u001b[0m              \u001b[3;33mtype\u001b[0m = ColorType.STANDARD                                       \u001b[34m│\u001b[0m\n",
      "\u001b[34m│\u001b[0m             \u001b[3;33mcount\u001b[0m = \u001b[3;96mdef \u001b[0m\u001b[1;31mcount\u001b[0m\u001b[1m(\u001b[0mvalue, \u001b[35m/\u001b[0m\u001b[1m)\u001b[0m: \u001b[2mReturn number of occurrences of \u001b[0m    \u001b[34m│\u001b[0m\n",
      "\u001b[34m│\u001b[0m                     \u001b[2mvalue.\u001b[0m                                                   \u001b[34m│\u001b[0m\n",
      "\u001b[34m│\u001b[0m           \u001b[3;33mdefault\u001b[0m = \u001b[3;96mdef \u001b[0m\u001b[1;31mdefault\u001b[0m\u001b[1m(\u001b[0m\u001b[1m)\u001b[0m -> \u001b[32m'Color'\u001b[0m: \u001b[2mGet a Color instance \u001b[0m          \u001b[34m│\u001b[0m\n",
      "\u001b[34m│\u001b[0m                     \u001b[2mrepresenting the default color.\u001b[0m                          \u001b[34m│\u001b[0m\n",
      "\u001b[34m│\u001b[0m         \u001b[3;33mdowngrade\u001b[0m = \u001b[3;96mdef \u001b[0m\u001b[1;31mdowngrade\u001b[0m\u001b[1m(\u001b[0msystem: rich.color.ColorSystem\u001b[1m)\u001b[0m ->         \u001b[34m│\u001b[0m\n",
      "\u001b[34m│\u001b[0m                     \u001b[32m'Color'\u001b[0m: \u001b[2mDowngrade a color system to a system with fewer\u001b[0m \u001b[34m│\u001b[0m\n",
      "\u001b[34m│\u001b[0m                     \u001b[2mcolors.\u001b[0m                                                  \u001b[34m│\u001b[0m\n",
      "\u001b[34m│\u001b[0m         \u001b[3;33mfrom_ansi\u001b[0m = \u001b[3;96mdef \u001b[0m\u001b[1;31mfrom_ansi\u001b[0m\u001b[1m(\u001b[0mnumber: int\u001b[1m)\u001b[0m -> \u001b[32m'Color'\u001b[0m: \u001b[2mCreate a Color \u001b[0m   \u001b[34m│\u001b[0m\n",
      "\u001b[34m│\u001b[0m                     \u001b[2mnumber from it's \u001b[0m\u001b[1;2;36m8\u001b[0m\u001b[2m-bit ansi number.\u001b[0m                      \u001b[34m│\u001b[0m\n",
      "\u001b[34m│\u001b[0m          \u001b[3;33mfrom_rgb\u001b[0m = \u001b[3;96mdef \u001b[0m\u001b[1;31mfrom_rgb\u001b[0m\u001b[1m(\u001b[0mred: float, green: float, blue: float\u001b[1m)\u001b[0m ->   \u001b[34m│\u001b[0m\n",
      "\u001b[34m│\u001b[0m                     \u001b[32m'Color'\u001b[0m: \u001b[2mCreate a truecolor from three color components \u001b[0m \u001b[34m│\u001b[0m\n",
      "\u001b[34m│\u001b[0m                     \u001b[2min the \u001b[0m\u001b[1;2;35mrange\u001b[0m\u001b[1;2m(\u001b[0m\u001b[1;2;36m0\u001b[0m\u001b[2m->\u001b[0m\u001b[1;2;36m255\u001b[0m\u001b[1;2m)\u001b[0m\u001b[2m.\u001b[0m                                    \u001b[34m│\u001b[0m\n",
      "\u001b[34m│\u001b[0m      \u001b[3;33mfrom_triplet\u001b[0m = \u001b[3;96mdef \u001b[0m\u001b[1;31mfrom_triplet\u001b[0m\u001b[1m(\u001b[0mtriplet: \u001b[32m'ColorTriplet'\u001b[0m\u001b[1m)\u001b[0m -> \u001b[32m'Color'\u001b[0m:    \u001b[34m│\u001b[0m\n",
      "\u001b[34m│\u001b[0m                     \u001b[2mCreate a truecolor RGB color from a triplet of values.\u001b[0m   \u001b[34m│\u001b[0m\n",
      "\u001b[34m│\u001b[0m    \u001b[3;33mget_ansi_codes\u001b[0m = \u001b[3;96mdef \u001b[0m\u001b[1;31mget_ansi_codes\u001b[0m\u001b[1m(\u001b[0mforeground: bool = \u001b[3;92mTrue\u001b[0m\u001b[1m)\u001b[0m ->           \u001b[34m│\u001b[0m\n",
      "\u001b[34m│\u001b[0m                     Tuple\u001b[1m[\u001b[0mstr, \u001b[33m...\u001b[0m\u001b[1m]\u001b[0m: \u001b[2mGet the ANSI escape codes for this \u001b[0m     \u001b[34m│\u001b[0m\n",
      "\u001b[34m│\u001b[0m                     \u001b[2mcolor.\u001b[0m                                                   \u001b[34m│\u001b[0m\n",
      "\u001b[34m│\u001b[0m     \u001b[3;33mget_truecolor\u001b[0m = \u001b[3;96mdef \u001b[0m\u001b[1;31mget_truecolor\u001b[0m\u001b[1m(\u001b[0mtheme:                                 \u001b[34m│\u001b[0m\n",
      "\u001b[34m│\u001b[0m                     Optional\u001b[1m[\u001b[0m\u001b[1;35mForwardRef\u001b[0m\u001b[1m(\u001b[0m\u001b[32m'TerminalTheme'\u001b[0m\u001b[1m)\u001b[0m\u001b[1m]\u001b[0m = \u001b[3;35mNone\u001b[0m,            \u001b[34m│\u001b[0m\n",
      "\u001b[34m│\u001b[0m                     foreground: bool = \u001b[3;92mTrue\u001b[0m\u001b[1m)\u001b[0m ->                              \u001b[34m│\u001b[0m\n",
      "\u001b[34m│\u001b[0m                     rich.color_triplet.ColorTriplet: \u001b[2mGet an equivalent color\u001b[0m \u001b[34m│\u001b[0m\n",
      "\u001b[34m│\u001b[0m                     \u001b[2mtriplet for this color.\u001b[0m                                  \u001b[34m│\u001b[0m\n",
      "\u001b[34m│\u001b[0m             \u001b[3;33mindex\u001b[0m = \u001b[3;96mdef \u001b[0m\u001b[1;31mindex\u001b[0m\u001b[1m(\u001b[0mvalue, \u001b[33mstart\u001b[0m=\u001b[1;36m0\u001b[0m, \u001b[33mstop\u001b[0m=\u001b[1;36m9223372036854775807\u001b[0m, \u001b[35m/\u001b[0m\u001b[1m)\u001b[0m:  \u001b[34m│\u001b[0m\n",
      "\u001b[34m│\u001b[0m                     \u001b[2mReturn first index of value.\u001b[0m                             \u001b[34m│\u001b[0m\n",
      "\u001b[34m│\u001b[0m             \u001b[3;33mparse\u001b[0m = \u001b[3;96mdef \u001b[0m\u001b[1;31mparse\u001b[0m\u001b[1m(\u001b[0mcolor: str\u001b[1m)\u001b[0m -> \u001b[32m'Color'\u001b[0m: \u001b[2mParse a color \u001b[0m         \u001b[34m│\u001b[0m\n",
      "\u001b[34m│\u001b[0m                     \u001b[2mdefinition.\u001b[0m                                              \u001b[34m│\u001b[0m\n",
      "\u001b[34m╰──────────────────────────────────────────────────────────────────────────────╯\u001b[0m\n",
      "\u001b[34m╭─\u001b[0m\u001b[34m────────────────────────────── \u001b[0m\u001b[1;34m<\u001b[0m\u001b[1;95mclass\u001b[0m\u001b[39m \u001b[0m\u001b[32m'set'\u001b[0m\u001b[1;34m>\u001b[0m\u001b[34m ──────────────────────────────\u001b[0m\u001b[34m─╮\u001b[0m\n",
      "\u001b[34m│\u001b[0m \u001b[1;35mset\u001b[0m\u001b[1;36m(\u001b[0m\u001b[1;36m)\u001b[0m\u001b[36m -> new empty set object\u001b[0m                                               \u001b[34m│\u001b[0m\n",
      "\u001b[34m│\u001b[0m \u001b[1;35mset\u001b[0m\u001b[1;36m(\u001b[0m\u001b[36miterable\u001b[0m\u001b[1;36m)\u001b[0m\u001b[36m -> new set object\u001b[0m                                             \u001b[34m│\u001b[0m\n",
      "\u001b[34m│\u001b[0m                                                                             \u001b[34m│\u001b[0m\n",
      "\u001b[34m│\u001b[0m \u001b[32m╭─────────────────────────────────────────────────────────────────────────╮\u001b[0m \u001b[34m│\u001b[0m\n",
      "\u001b[34m│\u001b[0m \u001b[32m│\u001b[0m \u001b[1m{\u001b[0m                                                                       \u001b[32m│\u001b[0m \u001b[34m│\u001b[0m\n",
      "\u001b[34m│\u001b[0m \u001b[32m│\u001b[0m \u001b[2;32m│   \u001b[0m\u001b[32m'BBBBBBBBBBBBBBBBBBBBBBBBBBBBBBBBBBBBBBBBBBBBBBBBBBBBBBBBBBBB'\u001b[0m+\u001b[1;36m140\u001b[0m, \u001b[32m│\u001b[0m \u001b[34m│\u001b[0m\n",
      "\u001b[34m│\u001b[0m \u001b[32m│\u001b[0m \u001b[2;32m│   \u001b[0m\u001b[32m'AAAAAAAAAAAAAAAAAAAAAAAAAAAAAAAAAAAAAAAAAAAAAAAAAAAAAAAAAAAA'\u001b[0m+\u001b[1;36m140\u001b[0m  \u001b[32m│\u001b[0m \u001b[34m│\u001b[0m\n",
      "\u001b[34m│\u001b[0m \u001b[32m│\u001b[0m \u001b[1m}\u001b[0m                                                                       \u001b[32m│\u001b[0m \u001b[34m│\u001b[0m\n",
      "\u001b[34m│\u001b[0m \u001b[32m╰─────────────────────────────────────────────────────────────────────────╯\u001b[0m \u001b[34m│\u001b[0m\n",
      "\u001b[34m│\u001b[0m                                                                             \u001b[34m│\u001b[0m\n",
      "\u001b[34m│\u001b[0m \u001b[1;36m39\u001b[0m\u001b[3m attribute(s) not shown.\u001b[0m Run \u001b[1;35minspect\u001b[0m\u001b[1m(\u001b[0minspect\u001b[1m)\u001b[0m for options.                \u001b[34m│\u001b[0m\n",
      "\u001b[34m╰─────────────────────────────────────────────────────────────────────────────╯\u001b[0m\n"
     ]
    }
   ],
   "source": [
    "import rich\n",
    "\n",
    "rich.reconfigure(force_terminal=True, force_jupyter=False)\n",
    "rich.pretty.install()\n",
    "rprint = rich.get_console().out\n",
    "\n",
    "d = {\"A\" * 200, \"B\" * 200}\n",
    "rprint(\"a\", d)\n",
    "print(\"a\", d)\n",
    "display(d)\n",
    "\n",
    "# Show borders. Narrowing browser messes-up aesthetic.\n",
    "rich.inspect(rich.color.Color.parse(\"red\"), methods=True)\n",
    "rich.inspect(d)"
   ]
  },
  {
   "cell_type": "markdown",
   "id": "e22821c8-22c9-4a31-90b0-c0f78adf3456",
   "metadata": {},
   "source": [
    "# Loguru"
   ]
  },
  {
   "cell_type": "code",
   "execution_count": null,
   "id": "1d216e11-673b-4f26-abcd-85208903593b",
   "metadata": {},
   "outputs": [
    {
     "name": "stderr",
     "output_type": "stream",
     "text": [
      "\u001b[32m2022-01-07 21:48:57.539\u001b[0m | \u001b[34m\u001b[1mDEBUG   \u001b[0m | \u001b[36m__main__\u001b[0m:\u001b[36mdemo_colorized_logs_in_jlab\u001b[0m:\u001b[36m9\u001b[0m - \u001b[34m\u001b[1mhaha\u001b[0m\n",
      "\u001b[32m2022-01-07 21:48:57.540\u001b[0m | \u001b[1mINFO    \u001b[0m | \u001b[36m__main__\u001b[0m:\u001b[36mdemo_colorized_logs_in_jlab\u001b[0m:\u001b[36m9\u001b[0m - \u001b[1mhaha\u001b[0m\n",
      "\u001b[32m2022-01-07 21:48:57.541\u001b[0m | \u001b[32m\u001b[1mSUCCESS \u001b[0m | \u001b[36m__main__\u001b[0m:\u001b[36mdemo_colorized_logs_in_jlab\u001b[0m:\u001b[36m9\u001b[0m - \u001b[32m\u001b[1mhaha\u001b[0m\n",
      "\u001b[32m2022-01-07 21:48:57.541\u001b[0m | \u001b[31m\u001b[1mERROR   \u001b[0m | \u001b[36m__main__\u001b[0m:\u001b[36mdemo_colorized_logs_in_jlab\u001b[0m:\u001b[36m9\u001b[0m - \u001b[31m\u001b[1mhaha\u001b[0m\n"
     ]
    },
    {
     "name": "stdout",
     "output_type": "stream",
     "text": [
      "\u001b[32m2022-01-07 21:48:57.548\u001b[0m | \u001b[34m\u001b[1mDEBUG   \u001b[0m | \u001b[36m__main__\u001b[0m:\u001b[36mdemo_colorized_logs_in_jlab\u001b[0m:\u001b[36m9\u001b[0m - \u001b[34m\u001b[1mhehe\u001b[0m\n",
      "\u001b[32m2022-01-07 21:48:57.549\u001b[0m | \u001b[1mINFO    \u001b[0m | \u001b[36m__main__\u001b[0m:\u001b[36mdemo_colorized_logs_in_jlab\u001b[0m:\u001b[36m9\u001b[0m - \u001b[1mhehe\u001b[0m\n",
      "\u001b[32m2022-01-07 21:48:57.550\u001b[0m | \u001b[32m\u001b[1mSUCCESS \u001b[0m | \u001b[36m__main__\u001b[0m:\u001b[36mdemo_colorized_logs_in_jlab\u001b[0m:\u001b[36m9\u001b[0m - \u001b[32m\u001b[1mhehe\u001b[0m\n",
      "\u001b[32m2022-01-07 21:48:57.551\u001b[0m | \u001b[31m\u001b[1mERROR   \u001b[0m | \u001b[36m__main__\u001b[0m:\u001b[36mdemo_colorized_logs_in_jlab\u001b[0m:\u001b[36m9\u001b[0m - \u001b[31m\u001b[1mhehe\u001b[0m\n",
      "\n",
      "\u001b[32m2022-01-07 21:48:57.552\u001b[0m | \u001b[1mINFO    \u001b[0m | \u001b[36m__main__\u001b[0m:\u001b[36m<module>\u001b[0m:\u001b[36m15\u001b[0m - \u001b[1m{'BBBBBBBBBBBBBBBBBBBBBBBBBBBBBBBBBBBBBBBBBBBBBBBBBBBBBBBBBBBBBBBBBBBBBBBBBBBBBBBBBBBBBBBBBBBBBBBBBBBBBBBBBBBBBBBBBBBBBBBBBBBBBBBBBBBBBBBBBBBBBBBBBBBBBBBBBBBBBBBBBBBBBBBBBBBBBBBBBBBBBBBBBBBBBBBBBBBBBBBB', 'AAAAAAAAAAAAAAAAAAAAAAAAAAAAAAAAAAAAAAAAAAAAAAAAAAAAAAAAAAAAAAAAAAAAAAAAAAAAAAAAAAAAAAAAAAAAAAAAAAAAAAAAAAAAAAAAAAAAAAAAAAAAAAAAAAAAAAAAAAAAAAAAAAAAAAAAAAAAAAAAAAAAAAAAAAAAAAAAAAAAAAAAAAAAAAAAAAAAAAAA'}\u001b[0m\n"
     ]
    }
   ],
   "source": [
    "import sys\n",
    "\n",
    "from loguru import logger\n",
    "\n",
    "\n",
    "def demo_colorized_logs_in_jlab(sink, msg):\n",
    "    logger.configure(handlers=[dict(sink=sink, colorize=True)])  # Side-effect to sink\n",
    "    for f in (logger.debug, logger.info, logger.success, logger.error):\n",
    "        f(msg)\n",
    "\n",
    "\n",
    "demo_colorized_logs_in_jlab(sys.stderr, \"haha\")\n",
    "demo_colorized_logs_in_jlab(sys.stdout, \"hehe\")\n",
    "print()\n",
    "logger.info(d)"
   ]
  },
  {
   "cell_type": "markdown",
   "id": "63208208-5e0b-461a-8e63-dd9e6c4b5b43",
   "metadata": {},
   "source": [
    "# Appendix: Rich -- render as html\n",
    "\n",
    "This section shows the default rendering of `rich` in Jupyter Lab.\n",
    "\n",
    "1. ignore JLab font settings\n",
    "2. long strings are not wrapped by the browser width, necessitating scroll to the right."
   ]
  },
  {
   "cell_type": "code",
   "execution_count": null,
   "id": "a22225b5-3c89-4af7-a772-1548fb64b624",
   "metadata": {},
   "outputs": [
    {
     "data": {
      "text/html": [
       "<pre style=\"white-space:pre;overflow-x:auto;line-height:normal;font-family:Menlo,'DejaVu Sans Mono',consolas,'Courier New',monospace\">a <span style=\"font-weight: bold\">{</span><span style=\"color: #008000; text-decoration-color: #008000\">'BBBBBBBBBBBBBBBBBBBBBBBBBBBBBBBBBBBBBBBBBBBBBBBBBBBBBBBBBBBBBBBBBBBBBBBBBBBBBBBBBBBBBBBBBBBBBBBBBBBBBBBBBBBBBBBBBBBBBBBBBBBBBBBBBBBBBBBBBBBBBBBBBBBBBBBBBBBBBBBBBBBBBBBBBBBBBBBBBBBBBBBBBBBBBBBBBBBBBBBB'</span>, <span style=\"color: #008000; text-decoration-color: #008000\">'AAAAAAAAAAAAAAAAAAAAAAAAAAAAAAAAAAAAAAAAAAAAAAAAAAAAAAAAAAAAAAAAAAAAAAAAAAAAAAAAAAAAAAAAAAAAAAAAAAAAAAAAAAAAAAAAAAAAAAAAAAAAAAAAAAAAAAAAAAAAAAAAAAAAAAAAAAAAAAAAAAAAAAAAAAAAAAAAAAAAAAAAAAAAAAAAAAAAAAAA'</span><span style=\"font-weight: bold\">}</span>\n",
       "</pre>\n"
      ],
      "text/plain": [
       "a \u001b[1m{\u001b[0m\u001b[32m'BBBBBBBBBBBBBBBBBBBBBBBBBBBBBBBBBBBBBBBBBBBBBBBBBBBBBBBBBBBBBBBBBBBBBBBBBBBBBBBBBBBBBBBBBBBBBBBBBBBBBBBBBBBBBBBBBBBBBBBBBBBBBBBBBBBBBBBBBBBBBBBBBBBBBBBBBBBBBBBBBBBBBBBBBBBBBBBBBBBBBBBBBBBBBBBBBBBBBBBB'\u001b[0m, \u001b[32m'AAAAAAAAAAAAAAAAAAAAAAAAAAAAAAAAAAAAAAAAAAAAAAAAAAAAAAAAAAAAAAAAAAAAAAAAAAAAAAAAAAAAAAAAAAAAAAAAAAAAAAAAAAAAAAAAAAAAAAAAAAAAAAAAAAAAAAAAAAAAAAAAAAAAAAAAAAAAAAAAAAAAAAAAAAAAAAAAAAAAAAAAAAAAAAAAAAAAAAAA'\u001b[0m\u001b[1m}\u001b[0m\n"
      ]
     },
     "metadata": {},
     "output_type": "display_data"
    },
    {
     "name": "stdout",
     "output_type": "stream",
     "text": [
      "a {'BBBBBBBBBBBBBBBBBBBBBBBBBBBBBBBBBBBBBBBBBBBBBBBBBBBBBBBBBBBBBBBBBBBBBBBBBBBBBBBBBBBBBBBBBBBBBBBBBBBBBBBBBBBBBBBBBBBBBBBBBBBBBBBBBBBBBBBBBBBBBBBBBBBBBBBBBBBBBBBBBBBBBBBBBBBBBBBBBBBBBBBBBBBBBBBBBBBBBBBB', 'AAAAAAAAAAAAAAAAAAAAAAAAAAAAAAAAAAAAAAAAAAAAAAAAAAAAAAAAAAAAAAAAAAAAAAAAAAAAAAAAAAAAAAAAAAAAAAAAAAAAAAAAAAAAAAAAAAAAAAAAAAAAAAAAAAAAAAAAAAAAAAAAAAAAAAAAAAAAAAAAAAAAAAAAAAAAAAAAAAAAAAAAAAAAAAAAAAAAAAAA'}\n"
     ]
    },
    {
     "data": {
      "text/html": [
       "<pre style=\"white-space:pre;overflow-x:auto;line-height:normal;font-family:Menlo,'DejaVu Sans Mono',consolas,'Courier New',monospace\">a\n",
       "<span style=\"font-weight: bold\">{</span>\n",
       "    <span style=\"color: #008000; text-decoration-color: #008000\">'BBBBBBBBBBBBBBBBBBBBBBBBBBBBBBBBBBBBBBBBBBBBBBBBBBBBBBBBBBBBBBBBBBBBBBBBBBBBBBBBBBBBBBBB</span>\n",
       "<span style=\"color: #008000; text-decoration-color: #008000\">BBBBBBBBBBBBBBBBBBBBBBBBBBBBBBBBBBBBBBBBBBBBBBBBBBBBBBBBBBBBBBBBBBBBBBBBBBBBBBBBBBBBBBBBBBBBB</span>\n",
       "<span style=\"color: #008000; text-decoration-color: #008000\">BBBBBBBBBBBBBBBBBBB'</span>,\n",
       "    <span style=\"color: #008000; text-decoration-color: #008000\">'AAAAAAAAAAAAAAAAAAAAAAAAAAAAAAAAAAAAAAAAAAAAAAAAAAAAAAAAAAAAAAAAAAAAAAAAAAAAAAAAAAAAAAAA</span>\n",
       "<span style=\"color: #008000; text-decoration-color: #008000\">AAAAAAAAAAAAAAAAAAAAAAAAAAAAAAAAAAAAAAAAAAAAAAAAAAAAAAAAAAAAAAAAAAAAAAAAAAAAAAAAAAAAAAAAAAAAA</span>\n",
       "<span style=\"color: #008000; text-decoration-color: #008000\">AAAAAAAAAAAAAAAAAAA'</span>\n",
       "<span style=\"font-weight: bold\">}</span>\n",
       "</pre>\n"
      ],
      "text/plain": [
       "a\n",
       "\u001b[1m{\u001b[0m\n",
       "    \u001b[32m'BBBBBBBBBBBBBBBBBBBBBBBBBBBBBBBBBBBBBBBBBBBBBBBBBBBBBBBBBBBBBBBBBBBBBBBBBBBBBBBBBBBBBBBB\u001b[0m\n",
       "\u001b[32mBBBBBBBBBBBBBBBBBBBBBBBBBBBBBBBBBBBBBBBBBBBBBBBBBBBBBBBBBBBBBBBBBBBBBBBBBBBBBBBBBBBBBBBBBBBBB\u001b[0m\n",
       "\u001b[32mBBBBBBBBBBBBBBBBBBB'\u001b[0m,\n",
       "    \u001b[32m'AAAAAAAAAAAAAAAAAAAAAAAAAAAAAAAAAAAAAAAAAAAAAAAAAAAAAAAAAAAAAAAAAAAAAAAAAAAAAAAAAAAAAAAA\u001b[0m\n",
       "\u001b[32mAAAAAAAAAAAAAAAAAAAAAAAAAAAAAAAAAAAAAAAAAAAAAAAAAAAAAAAAAAAAAAAAAAAAAAAAAAAAAAAAAAAAAAAAAAAAA\u001b[0m\n",
       "\u001b[32mAAAAAAAAAAAAAAAAAAA'\u001b[0m\n",
       "\u001b[1m}\u001b[0m\n"
      ]
     },
     "metadata": {},
     "output_type": "display_data"
    },
    {
     "data": {
      "text/html": [
       "<pre style=\"white-space:pre;overflow-x:auto;line-height:normal;font-family:Menlo,'DejaVu Sans Mono',consolas,'Courier New',monospace\"><span style=\"color: #000080; text-decoration-color: #000080\">╭────────── </span><span style=\"color: #000080; text-decoration-color: #000080; font-weight: bold\">&lt;</span><span style=\"color: #ff00ff; text-decoration-color: #ff00ff; font-weight: bold\">class</span><span style=\"color: #000000; text-decoration-color: #000000\"> </span><span style=\"color: #008000; text-decoration-color: #008000\">'rich.color.Color'</span><span style=\"color: #000080; text-decoration-color: #000080; font-weight: bold\">&gt;</span><span style=\"color: #000080; text-decoration-color: #000080\"> ──────────╮</span>\n",
       "<span style=\"color: #000080; text-decoration-color: #000080\">│</span> <span style=\"color: #008080; text-decoration-color: #008080\">Terminal color definition.</span>                     <span style=\"color: #000080; text-decoration-color: #000080\">│</span>\n",
       "<span style=\"color: #000080; text-decoration-color: #000080\">│</span>                                                <span style=\"color: #000080; text-decoration-color: #000080\">│</span>\n",
       "<span style=\"color: #000080; text-decoration-color: #000080\">│</span> <span style=\"color: #008000; text-decoration-color: #008000\">╭────────────────────────────────────────────╮</span> <span style=\"color: #000080; text-decoration-color: #000080\">│</span>\n",
       "<span style=\"color: #000080; text-decoration-color: #000080\">│</span> <span style=\"color: #008000; text-decoration-color: #008000\">│</span> <span style=\"color: #800080; text-decoration-color: #800080; font-weight: bold\">Color</span><span style=\"font-weight: bold\">(</span><span style=\"color: #008000; text-decoration-color: #008000\">'red'</span>, ColorType.STANDARD, <span style=\"color: #808000; text-decoration-color: #808000\">number</span>=<span style=\"color: #008080; text-decoration-color: #008080; font-weight: bold\">1</span><span style=\"font-weight: bold\">)</span> <span style=\"color: #008000; text-decoration-color: #008000\">│</span> <span style=\"color: #000080; text-decoration-color: #000080\">│</span>\n",
       "<span style=\"color: #000080; text-decoration-color: #000080\">│</span> <span style=\"color: #008000; text-decoration-color: #008000\">╰────────────────────────────────────────────╯</span> <span style=\"color: #000080; text-decoration-color: #000080\">│</span>\n",
       "<span style=\"color: #000080; text-decoration-color: #000080\">│</span>                                                <span style=\"color: #000080; text-decoration-color: #000080\">│</span>\n",
       "<span style=\"color: #000080; text-decoration-color: #000080\">│</span>        <span style=\"color: #808000; text-decoration-color: #808000; font-style: italic\">is_default</span> = <span style=\"color: #ff0000; text-decoration-color: #ff0000; font-style: italic\">False</span>                      <span style=\"color: #000080; text-decoration-color: #000080\">│</span>\n",
       "<span style=\"color: #000080; text-decoration-color: #000080\">│</span> <span style=\"color: #808000; text-decoration-color: #808000; font-style: italic\">is_system_defined</span> = <span style=\"color: #00ff00; text-decoration-color: #00ff00; font-style: italic\">True</span>                       <span style=\"color: #000080; text-decoration-color: #000080\">│</span>\n",
       "<span style=\"color: #000080; text-decoration-color: #000080\">│</span>              <span style=\"color: #808000; text-decoration-color: #808000; font-style: italic\">name</span> = <span style=\"color: #008000; text-decoration-color: #008000\">'red'</span>                      <span style=\"color: #000080; text-decoration-color: #000080\">│</span>\n",
       "<span style=\"color: #000080; text-decoration-color: #000080\">│</span>            <span style=\"color: #808000; text-decoration-color: #808000; font-style: italic\">number</span> = <span style=\"color: #008080; text-decoration-color: #008080; font-weight: bold\">1</span>                          <span style=\"color: #000080; text-decoration-color: #000080\">│</span>\n",
       "<span style=\"color: #000080; text-decoration-color: #000080\">│</span>            <span style=\"color: #808000; text-decoration-color: #808000; font-style: italic\">system</span> = ColorSystem.STANDARD       <span style=\"color: #000080; text-decoration-color: #000080\">│</span>\n",
       "<span style=\"color: #000080; text-decoration-color: #000080\">│</span>           <span style=\"color: #808000; text-decoration-color: #808000; font-style: italic\">triplet</span> = <span style=\"color: #800080; text-decoration-color: #800080; font-style: italic\">None</span>                       <span style=\"color: #000080; text-decoration-color: #000080\">│</span>\n",
       "<span style=\"color: #000080; text-decoration-color: #000080\">│</span>              <span style=\"color: #808000; text-decoration-color: #808000; font-style: italic\">type</span> = ColorType.STANDARD         <span style=\"color: #000080; text-decoration-color: #000080\">│</span>\n",
       "<span style=\"color: #000080; text-decoration-color: #000080\">╰────────────────────────────────────────────────╯</span>\n",
       "</pre>\n"
      ],
      "text/plain": [
       "\u001b[34m╭─\u001b[0m\u001b[34m───────── \u001b[0m\u001b[1;34m<\u001b[0m\u001b[1;95mclass\u001b[0m\u001b[39m \u001b[0m\u001b[32m'rich.color.Color'\u001b[0m\u001b[1;34m>\u001b[0m\u001b[34m ─────────\u001b[0m\u001b[34m─╮\u001b[0m\n",
       "\u001b[34m│\u001b[0m \u001b[36mTerminal color definition.\u001b[0m                     \u001b[34m│\u001b[0m\n",
       "\u001b[34m│\u001b[0m                                                \u001b[34m│\u001b[0m\n",
       "\u001b[34m│\u001b[0m \u001b[32m╭────────────────────────────────────────────╮\u001b[0m \u001b[34m│\u001b[0m\n",
       "\u001b[34m│\u001b[0m \u001b[32m│\u001b[0m \u001b[1;35mColor\u001b[0m\u001b[1m(\u001b[0m\u001b[32m'red'\u001b[0m, ColorType.STANDARD, \u001b[33mnumber\u001b[0m=\u001b[1;36m1\u001b[0m\u001b[1m)\u001b[0m \u001b[32m│\u001b[0m \u001b[34m│\u001b[0m\n",
       "\u001b[34m│\u001b[0m \u001b[32m╰────────────────────────────────────────────╯\u001b[0m \u001b[34m│\u001b[0m\n",
       "\u001b[34m│\u001b[0m                                                \u001b[34m│\u001b[0m\n",
       "\u001b[34m│\u001b[0m        \u001b[3;33mis_default\u001b[0m = \u001b[3;91mFalse\u001b[0m                      \u001b[34m│\u001b[0m\n",
       "\u001b[34m│\u001b[0m \u001b[3;33mis_system_defined\u001b[0m = \u001b[3;92mTrue\u001b[0m                       \u001b[34m│\u001b[0m\n",
       "\u001b[34m│\u001b[0m              \u001b[3;33mname\u001b[0m = \u001b[32m'red'\u001b[0m                      \u001b[34m│\u001b[0m\n",
       "\u001b[34m│\u001b[0m            \u001b[3;33mnumber\u001b[0m = \u001b[1;36m1\u001b[0m                          \u001b[34m│\u001b[0m\n",
       "\u001b[34m│\u001b[0m            \u001b[3;33msystem\u001b[0m = ColorSystem.STANDARD       \u001b[34m│\u001b[0m\n",
       "\u001b[34m│\u001b[0m           \u001b[3;33mtriplet\u001b[0m = \u001b[3;35mNone\u001b[0m                       \u001b[34m│\u001b[0m\n",
       "\u001b[34m│\u001b[0m              \u001b[3;33mtype\u001b[0m = ColorType.STANDARD         \u001b[34m│\u001b[0m\n",
       "\u001b[34m╰────────────────────────────────────────────────╯\u001b[0m\n"
      ]
     },
     "metadata": {},
     "output_type": "display_data"
    },
    {
     "data": {
      "text/html": [
       "<pre style=\"white-space:pre;overflow-x:auto;line-height:normal;font-family:Menlo,'DejaVu Sans Mono',consolas,'Courier New',monospace\">\n",
       "<span style=\"font-weight: bold\">{</span>\n",
       "    <span style=\"color: #008000; text-decoration-color: #008000\">'BBBBBBBBBBBBBBBBBBBBBBBBBBBBBBBBBBBBBBBBBBBBBBBBBBBBBBBBBBBBBBBBBBBBBBBBBBBBBBBBBBBBBBBBBBBBBBBBBBBBBBBBBBBBBBBBBBBBBBBBBBBBBBBBBBBBBBBBBBBBBBBBBBBBBBBBBBBBBBBBBBBBBBBBBBBBBBBBBBBBBBBBBBBBBBBBBBBBBBBB'</span>,\n",
       "    <span style=\"color: #008000; text-decoration-color: #008000\">'AAAAAAAAAAAAAAAAAAAAAAAAAAAAAAAAAAAAAAAAAAAAAAAAAAAAAAAAAAAAAAAAAAAAAAAAAAAAAAAAAAAAAAAAAAAAAAAAAAAAAAAAAAAAAAAAAAAAAAAAAAAAAAAAAAAAAAAAAAAAAAAAAAAAAAAAAAAAAAAAAAAAAAAAAAAAAAAAAAAAAAAAAAAAAAAAAAAAAAAA'</span>\n",
       "<span style=\"font-weight: bold\">}</span>\n",
       "</pre>\n"
      ],
      "text/plain": [
       "\n",
       "\u001b[1m{\u001b[0m\n",
       "    \u001b[32m'BBBBBBBBBBBBBBBBBBBBBBBBBBBBBBBBBBBBBBBBBBBBBBBBBBBBBBBBBBBBBBBBBBBBBBBBBBBBBBBBBBBBBBBBBBBBBBBBBBBBBBBBBBBBBBBBBBBBBBBBBBBBBBBBBBBBBBBBBBBBBBBBBBBBBBBBBBBBBBBBBBBBBBBBBBBBBBBBBBBBBBBBBBBBBBBBBBBBBBBB'\u001b[0m,\n",
       "    \u001b[32m'AAAAAAAAAAAAAAAAAAAAAAAAAAAAAAAAAAAAAAAAAAAAAAAAAAAAAAAAAAAAAAAAAAAAAAAAAAAAAAAAAAAAAAAAAAAAAAAAAAAAAAAAAAAAAAAAAAAAAAAAAAAAAAAAAAAAAAAAAAAAAAAAAAAAAAAAAAAAAAAAAAAAAAAAAAAAAAAAAAAAAAAAAAAAAAAAAAAAAAAA'\u001b[0m\n",
       "\u001b[1m}\u001b[0m\n"
      ]
     },
     "metadata": {},
     "output_type": "display_data"
    }
   ],
   "source": [
    "import rich\n",
    "from rich import pretty\n",
    "\n",
    "rich.reconfigure()  # Reset rich configuration\n",
    "pretty.install()\n",
    "rprint = rich.console.Console().out\n",
    "\n",
    "d = {\"A\" * 200, \"B\" * 200}\n",
    "rprint(\"a\", d)\n",
    "print(\"a\", d)\n",
    "rich.print(\"a\", d)\n",
    "rich.inspect(rich.color.Color.parse(\"red\"))\n",
    "d"
   ]
  },
  {
   "cell_type": "code",
   "execution_count": null,
   "id": "034e4529-b47f-4055-9fb9-6f7e6c1b06b9",
   "metadata": {},
   "outputs": [],
   "source": []
  }
 ],
 "metadata": {
  "kernelspec": {
   "display_name": "Environment (virtualenv_sm-sdk)",
   "language": "python",
   "name": "virtualenv_sm-sdk"
  },
  "language_info": {
   "codemirror_mode": {
    "name": "ipython",
    "version": 3
   },
   "file_extension": ".py",
   "mimetype": "text/x-python",
   "name": "python",
   "nbconvert_exporter": "python",
   "pygments_lexer": "ipython3",
   "version": "3.9.1"
  },
  "toc-autonumbering": true
 },
 "nbformat": 4,
 "nbformat_minor": 5
}
